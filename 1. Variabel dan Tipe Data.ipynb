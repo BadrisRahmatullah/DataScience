{
  "nbformat": 4,
  "nbformat_minor": 0,
  "metadata": {
    "kernelspec": {
      "display_name": "Python 3",
      "language": "python",
      "name": "python3"
    },
    "language_info": {
      "codemirror_mode": {
        "name": "ipython",
        "version": 3
      },
      "file_extension": ".py",
      "mimetype": "text/x-python",
      "name": "python",
      "nbconvert_exporter": "python",
      "pygments_lexer": "ipython3",
      "version": "3.6.4"
    },
    "colab": {
      "name": "1. Variabel dan Tipe Data.ipynb",
      "provenance": [],
      "include_colab_link": true
    }
  },
  "cells": [
    {
      "cell_type": "markdown",
      "metadata": {
        "id": "view-in-github",
        "colab_type": "text"
      },
      "source": [
        "<a href=\"https://colab.research.google.com/github/Farida02/learn-data-science-/blob/master/data-science-with-python-master/Bagian%201%20-%20Pengenalan%20Python%20untuk%20Data%20Science/1.%20Variabel%20dan%20Tipe%20Data.ipynb\" target=\"_parent\"><img src=\"https://colab.research.google.com/assets/colab-badge.svg\" alt=\"Open In Colab\"/></a>"
      ]
    },
    {
      "cell_type": "markdown",
      "metadata": {
        "id": "93AiH_JHiRGj"
      },
      "source": [
        "# Python Dasar"
      ]
    },
    {
      "cell_type": "markdown",
      "metadata": {
        "id": "PBYPdqfjiRGn"
      },
      "source": [
        "## 1. Hello World"
      ]
    },
    {
      "cell_type": "code",
      "metadata": {
        "id": "JwvobsvviRGt",
        "outputId": "38253e8b-9791-403b-aa4a-9fd64651acd8",
        "colab": {
          "base_uri": "https://localhost:8080/",
          "height": 35
        }
      },
      "source": [
        "print('Hello World')"
      ],
      "execution_count": 1,
      "outputs": [
        {
          "output_type": "stream",
          "text": [
            "Hello World\n"
          ],
          "name": "stdout"
        }
      ]
    },
    {
      "cell_type": "markdown",
      "metadata": {
        "id": "OIAVEtk9iRHC"
      },
      "source": [
        "## 2. Variabel \n",
        "### - Spesifik, *case sensitive* ,  dan dapat dipanggil melalui nama variabel"
      ]
    },
    {
      "cell_type": "code",
      "metadata": {
        "id": "0Ze7-jypiRHG"
      },
      "source": [
        "tinggi = 1.65\n",
        "berat = 55"
      ],
      "execution_count": null,
      "outputs": []
    },
    {
      "cell_type": "code",
      "metadata": {
        "id": "9qilbmEiiRHU",
        "outputId": "c4feb221-784a-4bc5-d450-5efe6173b720"
      },
      "source": [
        "tinggi"
      ],
      "execution_count": null,
      "outputs": [
        {
          "output_type": "execute_result",
          "data": {
            "text/plain": [
              "160"
            ]
          },
          "metadata": {
            "tags": []
          },
          "execution_count": 3
        }
      ]
    },
    {
      "cell_type": "code",
      "metadata": {
        "id": "yT3GcApniRHg",
        "outputId": "2e5bc226-be60-485b-c2df-a1321cb90249"
      },
      "source": [
        "berat"
      ],
      "execution_count": null,
      "outputs": [
        {
          "output_type": "execute_result",
          "data": {
            "text/plain": [
              "55.5"
            ]
          },
          "metadata": {
            "tags": []
          },
          "execution_count": 4
        }
      ]
    },
    {
      "cell_type": "markdown",
      "metadata": {
        "id": "zDl469S-iRHs"
      },
      "source": [
        "Menghitung BMI atau *Body Mass Index*  dapat kita gunakan persamaan berikut $BMI = \\frac{Berat}{Tinggi^2}$"
      ]
    },
    {
      "cell_type": "code",
      "metadata": {
        "id": "XWkW1cs_iRH1"
      },
      "source": [
        "tinggi = 1.78 # Meter\n",
        "berat = 70 # Kilogram"
      ],
      "execution_count": null,
      "outputs": []
    },
    {
      "cell_type": "code",
      "metadata": {
        "id": "mv_v1GpsiRID",
        "outputId": "70ab2bfd-0e98-4027-ab6a-680dd3255426"
      },
      "source": [
        "70 / 1.78 ** 2"
      ],
      "execution_count": null,
      "outputs": [
        {
          "output_type": "execute_result",
          "data": {
            "text/plain": [
              "22.093170054286073"
            ]
          },
          "metadata": {
            "tags": []
          },
          "execution_count": 11
        }
      ]
    },
    {
      "cell_type": "code",
      "metadata": {
        "id": "DUd6YXxOiRIP",
        "outputId": "ec841273-17d7-4830-8ef9-b8fdf2b0ed4d"
      },
      "source": [
        "berat / tinggi ** 2"
      ],
      "execution_count": null,
      "outputs": [
        {
          "output_type": "execute_result",
          "data": {
            "text/plain": [
              "22.093170054286073"
            ]
          },
          "metadata": {
            "tags": []
          },
          "execution_count": 12
        }
      ]
    },
    {
      "cell_type": "code",
      "metadata": {
        "id": "AcI5lTbziRIX"
      },
      "source": [
        "bmi = berat / tinggi ** 2"
      ],
      "execution_count": null,
      "outputs": []
    },
    {
      "cell_type": "code",
      "metadata": {
        "id": "FNUbcv7wiRIh",
        "outputId": "d8e44c1d-33e8-432c-c41b-1bf36c482cec"
      },
      "source": [
        "bmi"
      ],
      "execution_count": null,
      "outputs": [
        {
          "output_type": "execute_result",
          "data": {
            "text/plain": [
              "22.093170054286073"
            ]
          },
          "metadata": {
            "tags": []
          },
          "execution_count": 14
        }
      ]
    },
    {
      "cell_type": "markdown",
      "metadata": {
        "id": "-SyBGgKBiRIr"
      },
      "source": [
        "### *Reproducibility*"
      ]
    },
    {
      "cell_type": "code",
      "metadata": {
        "scrolled": true,
        "id": "sTT698HbiRIu",
        "outputId": "18085b34-ac6f-4f38-b4fe-a4fc4b136201"
      },
      "source": [
        "tinggi = 1.68\n",
        "berat = 50 # Coba ganti berat dengan angka yang lain apa yang terjadi?\n",
        "bmi = berat / tinggi ** 2\n",
        "print(bmi)"
      ],
      "execution_count": null,
      "outputs": [
        {
          "output_type": "stream",
          "text": [
            "17.71541950113379\n"
          ],
          "name": "stdout"
        }
      ]
    },
    {
      "cell_type": "markdown",
      "metadata": {
        "collapsed": true,
        "id": "qM1PTg9RiRI2"
      },
      "source": [
        "## Tipe Data"
      ]
    },
    {
      "cell_type": "code",
      "metadata": {
        "id": "9G3LNNcSiRI4",
        "outputId": "cadc4de7-f5ee-43bf-b33a-41b101aaab98"
      },
      "source": [
        "type(bmi)"
      ],
      "execution_count": null,
      "outputs": [
        {
          "output_type": "execute_result",
          "data": {
            "text/plain": [
              "float"
            ]
          },
          "metadata": {
            "tags": []
          },
          "execution_count": 16
        }
      ]
    },
    {
      "cell_type": "code",
      "metadata": {
        "id": "z9Myk9iXiRJD"
      },
      "source": [
        "jumlah_hari = 7"
      ],
      "execution_count": null,
      "outputs": []
    },
    {
      "cell_type": "code",
      "metadata": {
        "id": "NzMGpa2oiRJT",
        "outputId": "85f9411a-b577-4a70-9e63-6cbb4eb6b715"
      },
      "source": [
        "type(jumlah_hari)"
      ],
      "execution_count": null,
      "outputs": [
        {
          "output_type": "execute_result",
          "data": {
            "text/plain": [
              "int"
            ]
          },
          "metadata": {
            "tags": []
          },
          "execution_count": 18
        }
      ]
    },
    {
      "cell_type": "code",
      "metadata": {
        "id": "dI_XthiTiRJc"
      },
      "source": [
        "x = 'BMI itu apa?'\n",
        "y = 'Haha'"
      ],
      "execution_count": null,
      "outputs": []
    },
    {
      "cell_type": "code",
      "metadata": {
        "id": "83KTikw0iRJl",
        "outputId": "937a972a-475b-4436-c68d-d7de619feb78"
      },
      "source": [
        "print(type(x), type(y))"
      ],
      "execution_count": null,
      "outputs": [
        {
          "output_type": "stream",
          "text": [
            "<class 'str'> <class 'str'>\n"
          ],
          "name": "stdout"
        }
      ]
    },
    {
      "cell_type": "code",
      "metadata": {
        "id": "RESZXc0OiRJs",
        "outputId": "2b38797d-7421-4bab-f8d2-0b05ce2ef65a"
      },
      "source": [
        "type(x)"
      ],
      "execution_count": null,
      "outputs": [
        {
          "output_type": "execute_result",
          "data": {
            "text/plain": [
              "str"
            ]
          },
          "metadata": {
            "tags": []
          },
          "execution_count": 21
        }
      ]
    },
    {
      "cell_type": "code",
      "metadata": {
        "id": "5AYDjwbCiRJ6",
        "outputId": "46fa51c2-deb3-40d4-a95e-7af5a8a61ae2"
      },
      "source": [
        "type(y)"
      ],
      "execution_count": null,
      "outputs": [
        {
          "output_type": "execute_result",
          "data": {
            "text/plain": [
              "str"
            ]
          },
          "metadata": {
            "tags": []
          },
          "execution_count": 22
        }
      ]
    },
    {
      "cell_type": "code",
      "metadata": {
        "id": "-FC-kCCSiRKC",
        "outputId": "d301a76b-d7c9-4c3a-ca52-61b595db6da7"
      },
      "source": [
        "z = True\n",
        "type(z)"
      ],
      "execution_count": null,
      "outputs": [
        {
          "output_type": "execute_result",
          "data": {
            "text/plain": [
              "bool"
            ]
          },
          "metadata": {
            "tags": []
          },
          "execution_count": 23
        }
      ]
    },
    {
      "cell_type": "code",
      "metadata": {
        "id": "QZhYEyETiRKJ"
      },
      "source": [
        ""
      ],
      "execution_count": null,
      "outputs": []
    }
  ]
}